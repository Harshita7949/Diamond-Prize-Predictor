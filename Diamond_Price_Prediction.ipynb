{
 "cells": [
  {
   "cell_type": "code",
   "execution_count": 79,
   "metadata": {
    "id": "P3m-QN_cTxSt",
    "tags": []
   },
   "outputs": [],
   "source": [
    "import numpy as np\n",
    "import pandas as pd\n",
    "import seaborn as sns\n",
    "sns.set(context=\"notebook\", palette=\"Spectral\", style = 'darkgrid' ,font_scale = 1.5, color_codes=False)\n",
    "import matplotlib.pyplot as plt\n",
    "from sklearn.model_selection import train_test_split\n",
    "from sklearn.ensemble import IsolationForest\n",
    "from sklearn.linear_model import LinearRegression\n",
    "# Regression\n",
    "from sklearn.linear_model import LinearRegression, Ridge, Lasso, RidgeCV, ElasticNet\n",
    "from sklearn.ensemble import RandomForestRegressor, BaggingRegressor\n",
    "from sklearn.neighbors import KNeighborsRegressor\n",
    "from sklearn.neural_network import MLPRegressor\n",
    "from sklearn.metrics import mean_absolute_error, mean_squared_error, r2_score\n",
    "import warnings\n",
    "warnings.filterwarnings(\"ignore\", category=DeprecationWarning, module=\"numpy\")\n",
    "warnings.filterwarnings(\"ignore\", category=DeprecationWarning, module=\"sklearn\")\n",
    "warnings.filterwarnings(\"ignore\", category=UserWarning, module=\"sklearn\")\n",
    "warnings.filterwarnings(\"ignore\", category=FutureWarning, module=\"sklearn\")\n",
    "warnings.filterwarnings(\"ignore\", category=UserWarning, module=\"seaborn\")\n"
   ]
  },
  {
   "cell_type": "markdown",
   "metadata": {
    "id": "2YrJUKqhTxSu"
   },
   "source": [
    "---\n"
   ]
  },
  {
   "cell_type": "code",
   "execution_count": 55,
   "metadata": {
    "id": "-5f5nmaOTxSu",
    "outputId": "d61bb430-aef4-493b-e1c6-abbd7eb03bdf",
    "tags": []
   },
   "outputs": [
    {
     "data": {
      "text/html": [
       "<div>\n",
       "<style scoped>\n",
       "    .dataframe tbody tr th:only-of-type {\n",
       "        vertical-align: middle;\n",
       "    }\n",
       "\n",
       "    .dataframe tbody tr th {\n",
       "        vertical-align: top;\n",
       "    }\n",
       "\n",
       "    .dataframe thead th {\n",
       "        text-align: right;\n",
       "    }\n",
       "</style>\n",
       "<table border=\"1\" class=\"dataframe\">\n",
       "  <thead>\n",
       "    <tr style=\"text-align: right;\">\n",
       "      <th></th>\n",
       "      <th>s</th>\n",
       "      <th>carat</th>\n",
       "      <th>cut</th>\n",
       "      <th>color</th>\n",
       "      <th>clarity</th>\n",
       "      <th>depth</th>\n",
       "      <th>table</th>\n",
       "      <th>price</th>\n",
       "      <th>x</th>\n",
       "      <th>y</th>\n",
       "      <th>z</th>\n",
       "    </tr>\n",
       "  </thead>\n",
       "  <tbody>\n",
       "    <tr>\n",
       "      <th>0</th>\n",
       "      <td>1</td>\n",
       "      <td>0.23</td>\n",
       "      <td>Ideal</td>\n",
       "      <td>E</td>\n",
       "      <td>SI2</td>\n",
       "      <td>61.5</td>\n",
       "      <td>55.0</td>\n",
       "      <td>326</td>\n",
       "      <td>3.95</td>\n",
       "      <td>3.98</td>\n",
       "      <td>2.43</td>\n",
       "    </tr>\n",
       "    <tr>\n",
       "      <th>1</th>\n",
       "      <td>2</td>\n",
       "      <td>0.21</td>\n",
       "      <td>Premium</td>\n",
       "      <td>E</td>\n",
       "      <td>SI1</td>\n",
       "      <td>59.8</td>\n",
       "      <td>61.0</td>\n",
       "      <td>326</td>\n",
       "      <td>3.89</td>\n",
       "      <td>3.84</td>\n",
       "      <td>2.31</td>\n",
       "    </tr>\n",
       "    <tr>\n",
       "      <th>2</th>\n",
       "      <td>3</td>\n",
       "      <td>0.23</td>\n",
       "      <td>Good</td>\n",
       "      <td>E</td>\n",
       "      <td>VS1</td>\n",
       "      <td>56.9</td>\n",
       "      <td>65.0</td>\n",
       "      <td>327</td>\n",
       "      <td>4.05</td>\n",
       "      <td>4.07</td>\n",
       "      <td>2.31</td>\n",
       "    </tr>\n",
       "    <tr>\n",
       "      <th>3</th>\n",
       "      <td>4</td>\n",
       "      <td>0.29</td>\n",
       "      <td>Premium</td>\n",
       "      <td>I</td>\n",
       "      <td>VS2</td>\n",
       "      <td>62.4</td>\n",
       "      <td>58.0</td>\n",
       "      <td>334</td>\n",
       "      <td>4.20</td>\n",
       "      <td>4.23</td>\n",
       "      <td>2.63</td>\n",
       "    </tr>\n",
       "    <tr>\n",
       "      <th>4</th>\n",
       "      <td>5</td>\n",
       "      <td>0.31</td>\n",
       "      <td>Good</td>\n",
       "      <td>J</td>\n",
       "      <td>SI2</td>\n",
       "      <td>63.3</td>\n",
       "      <td>58.0</td>\n",
       "      <td>335</td>\n",
       "      <td>4.34</td>\n",
       "      <td>4.35</td>\n",
       "      <td>2.75</td>\n",
       "    </tr>\n",
       "  </tbody>\n",
       "</table>\n",
       "</div>"
      ],
      "text/plain": [
       "   s  carat      cut color clarity  depth  table  price     x     y     z\n",
       "0  1   0.23    Ideal     E     SI2   61.5   55.0    326  3.95  3.98  2.43\n",
       "1  2   0.21  Premium     E     SI1   59.8   61.0    326  3.89  3.84  2.31\n",
       "2  3   0.23     Good     E     VS1   56.9   65.0    327  4.05  4.07  2.31\n",
       "3  4   0.29  Premium     I     VS2   62.4   58.0    334  4.20  4.23  2.63\n",
       "4  5   0.31     Good     J     SI2   63.3   58.0    335  4.34  4.35  2.75"
      ]
     },
     "execution_count": 55,
     "metadata": {},
     "output_type": "execute_result"
    }
   ],
   "source": [
    "df = pd.read_csv(\"Diamond.csv\")\n",
    "\n",
    "df.head()"
   ]
  },
  {
   "cell_type": "code",
   "execution_count": 56,
   "metadata": {},
   "outputs": [
    {
     "data": {
      "text/plain": [
       "(53940, 11)"
      ]
     },
     "execution_count": 56,
     "metadata": {},
     "output_type": "execute_result"
    }
   ],
   "source": [
    "df.shape"
   ]
  },
  {
   "cell_type": "code",
   "execution_count": 57,
   "metadata": {
    "id": "Yrs6gDv4TxSv",
    "tags": []
   },
   "outputs": [],
   "source": [
    "df = df.drop([\"s\"], axis=1)"
   ]
  },
  {
   "cell_type": "code",
   "execution_count": 58,
   "metadata": {
    "id": "Qywqhow2TxSv",
    "outputId": "5ee67f70-3840-45fd-8fd7-73379508def5",
    "tags": []
   },
   "outputs": [
    {
     "data": {
      "text/html": [
       "<div>\n",
       "<style scoped>\n",
       "    .dataframe tbody tr th:only-of-type {\n",
       "        vertical-align: middle;\n",
       "    }\n",
       "\n",
       "    .dataframe tbody tr th {\n",
       "        vertical-align: top;\n",
       "    }\n",
       "\n",
       "    .dataframe thead th {\n",
       "        text-align: right;\n",
       "    }\n",
       "</style>\n",
       "<table border=\"1\" class=\"dataframe\">\n",
       "  <thead>\n",
       "    <tr style=\"text-align: right;\">\n",
       "      <th></th>\n",
       "      <th>carat</th>\n",
       "      <th>cut</th>\n",
       "      <th>color</th>\n",
       "      <th>clarity</th>\n",
       "      <th>depth</th>\n",
       "      <th>table</th>\n",
       "      <th>price</th>\n",
       "    </tr>\n",
       "  </thead>\n",
       "  <tbody>\n",
       "    <tr>\n",
       "      <th>0</th>\n",
       "      <td>0.23</td>\n",
       "      <td>Ideal</td>\n",
       "      <td>E</td>\n",
       "      <td>SI2</td>\n",
       "      <td>61.5</td>\n",
       "      <td>55.0</td>\n",
       "      <td>326</td>\n",
       "    </tr>\n",
       "    <tr>\n",
       "      <th>1</th>\n",
       "      <td>0.21</td>\n",
       "      <td>Premium</td>\n",
       "      <td>E</td>\n",
       "      <td>SI1</td>\n",
       "      <td>59.8</td>\n",
       "      <td>61.0</td>\n",
       "      <td>326</td>\n",
       "    </tr>\n",
       "    <tr>\n",
       "      <th>2</th>\n",
       "      <td>0.23</td>\n",
       "      <td>Good</td>\n",
       "      <td>E</td>\n",
       "      <td>VS1</td>\n",
       "      <td>56.9</td>\n",
       "      <td>65.0</td>\n",
       "      <td>327</td>\n",
       "    </tr>\n",
       "    <tr>\n",
       "      <th>3</th>\n",
       "      <td>0.29</td>\n",
       "      <td>Premium</td>\n",
       "      <td>I</td>\n",
       "      <td>VS2</td>\n",
       "      <td>62.4</td>\n",
       "      <td>58.0</td>\n",
       "      <td>334</td>\n",
       "    </tr>\n",
       "    <tr>\n",
       "      <th>4</th>\n",
       "      <td>0.31</td>\n",
       "      <td>Good</td>\n",
       "      <td>J</td>\n",
       "      <td>SI2</td>\n",
       "      <td>63.3</td>\n",
       "      <td>58.0</td>\n",
       "      <td>335</td>\n",
       "    </tr>\n",
       "  </tbody>\n",
       "</table>\n",
       "</div>"
      ],
      "text/plain": [
       "   carat      cut color clarity  depth  table  price\n",
       "0   0.23    Ideal     E     SI2   61.5   55.0    326\n",
       "1   0.21  Premium     E     SI1   59.8   61.0    326\n",
       "2   0.23     Good     E     VS1   56.9   65.0    327\n",
       "3   0.29  Premium     I     VS2   62.4   58.0    334\n",
       "4   0.31     Good     J     SI2   63.3   58.0    335"
      ]
     },
     "execution_count": 58,
     "metadata": {},
     "output_type": "execute_result"
    }
   ],
   "source": [
    "df = df.drop([\"x\",\"y\",'z'], axis=1)\n",
    "df.head()"
   ]
  },
  {
   "cell_type": "code",
   "execution_count": 59,
   "metadata": {
    "id": "x3ue1KyaTxSv",
    "outputId": "3464f603-7e55-4143-8ec0-7eb89427ca74",
    "tags": []
   },
   "outputs": [
    {
     "data": {
      "text/html": [
       "<div>\n",
       "<style scoped>\n",
       "    .dataframe tbody tr th:only-of-type {\n",
       "        vertical-align: middle;\n",
       "    }\n",
       "\n",
       "    .dataframe tbody tr th {\n",
       "        vertical-align: top;\n",
       "    }\n",
       "\n",
       "    .dataframe thead th {\n",
       "        text-align: right;\n",
       "    }\n",
       "</style>\n",
       "<table border=\"1\" class=\"dataframe\">\n",
       "  <thead>\n",
       "    <tr style=\"text-align: right;\">\n",
       "      <th></th>\n",
       "      <th>carat</th>\n",
       "      <th>cut</th>\n",
       "      <th>color</th>\n",
       "      <th>clarity</th>\n",
       "      <th>depth</th>\n",
       "      <th>table</th>\n",
       "      <th>price</th>\n",
       "    </tr>\n",
       "  </thead>\n",
       "  <tbody>\n",
       "    <tr>\n",
       "      <th>0</th>\n",
       "      <td>0.23</td>\n",
       "      <td>1</td>\n",
       "      <td>2</td>\n",
       "      <td>7</td>\n",
       "      <td>61.5</td>\n",
       "      <td>55.0</td>\n",
       "      <td>326</td>\n",
       "    </tr>\n",
       "    <tr>\n",
       "      <th>1</th>\n",
       "      <td>0.21</td>\n",
       "      <td>2</td>\n",
       "      <td>2</td>\n",
       "      <td>6</td>\n",
       "      <td>59.8</td>\n",
       "      <td>61.0</td>\n",
       "      <td>326</td>\n",
       "    </tr>\n",
       "    <tr>\n",
       "      <th>2</th>\n",
       "      <td>0.23</td>\n",
       "      <td>3</td>\n",
       "      <td>2</td>\n",
       "      <td>4</td>\n",
       "      <td>56.9</td>\n",
       "      <td>65.0</td>\n",
       "      <td>327</td>\n",
       "    </tr>\n",
       "    <tr>\n",
       "      <th>3</th>\n",
       "      <td>0.29</td>\n",
       "      <td>2</td>\n",
       "      <td>6</td>\n",
       "      <td>5</td>\n",
       "      <td>62.4</td>\n",
       "      <td>58.0</td>\n",
       "      <td>334</td>\n",
       "    </tr>\n",
       "    <tr>\n",
       "      <th>4</th>\n",
       "      <td>0.31</td>\n",
       "      <td>3</td>\n",
       "      <td>7</td>\n",
       "      <td>7</td>\n",
       "      <td>63.3</td>\n",
       "      <td>58.0</td>\n",
       "      <td>335</td>\n",
       "    </tr>\n",
       "  </tbody>\n",
       "</table>\n",
       "</div>"
      ],
      "text/plain": [
       "   carat  cut  color  clarity  depth  table  price\n",
       "0   0.23    1      2        7   61.5   55.0    326\n",
       "1   0.21    2      2        6   59.8   61.0    326\n",
       "2   0.23    3      2        4   56.9   65.0    327\n",
       "3   0.29    2      6        5   62.4   58.0    334\n",
       "4   0.31    3      7        7   63.3   58.0    335"
      ]
     },
     "execution_count": 59,
     "metadata": {},
     "output_type": "execute_result"
    }
   ],
   "source": [
    "df[\"cut\"] = df[\"cut\"].map({\"Ideal\": 1, \"Premium\": 2, \"Good\": 3, \"Very Good\": 4, \"Fair\": 5})\n",
    "df[\"color\"] = df[\"color\"].map({\"D\": 1, \"E\": 2, \"F\": 3, \"G\": 4, \"H\": 5, \"I\": 6, \"J\": 7})\n",
    "df[\"clarity\"] = df[\"clarity\"].map({\"IF\": 1, \"VVS1\": 2, \"VVS2\": 3, \"VS1\": 4, \"VS2\": 5, \"SI1\": 6, \"SI2\": 7, \"I1\": 8})\n",
    "\n",
    "df.head()"
   ]
  },
  {
   "cell_type": "code",
   "execution_count": 60,
   "metadata": {
    "id": "tlBKGvBITxSv",
    "outputId": "52616870-7972-4c1f-84ed-06ff231d07e7",
    "tags": []
   },
   "outputs": [
    {
     "data": {
      "text/html": [
       "<div>\n",
       "<style scoped>\n",
       "    .dataframe tbody tr th:only-of-type {\n",
       "        vertical-align: middle;\n",
       "    }\n",
       "\n",
       "    .dataframe tbody tr th {\n",
       "        vertical-align: top;\n",
       "    }\n",
       "\n",
       "    .dataframe thead th {\n",
       "        text-align: right;\n",
       "    }\n",
       "</style>\n",
       "<table border=\"1\" class=\"dataframe\">\n",
       "  <thead>\n",
       "    <tr style=\"text-align: right;\">\n",
       "      <th></th>\n",
       "      <th>carat</th>\n",
       "      <th>cut</th>\n",
       "      <th>color</th>\n",
       "      <th>clarity</th>\n",
       "      <th>depth</th>\n",
       "      <th>table</th>\n",
       "      <th>price</th>\n",
       "    </tr>\n",
       "  </thead>\n",
       "  <tbody>\n",
       "    <tr>\n",
       "      <th>count</th>\n",
       "      <td>53940.000000</td>\n",
       "      <td>53940.000000</td>\n",
       "      <td>53940.000000</td>\n",
       "      <td>53940.000000</td>\n",
       "      <td>53940.000000</td>\n",
       "      <td>53940.000000</td>\n",
       "      <td>53940.000000</td>\n",
       "    </tr>\n",
       "    <tr>\n",
       "      <th>mean</th>\n",
       "      <td>0.797940</td>\n",
       "      <td>2.228940</td>\n",
       "      <td>3.594197</td>\n",
       "      <td>4.948980</td>\n",
       "      <td>61.749405</td>\n",
       "      <td>57.457184</td>\n",
       "      <td>3932.799722</td>\n",
       "    </tr>\n",
       "    <tr>\n",
       "      <th>std</th>\n",
       "      <td>0.474011</td>\n",
       "      <td>1.265976</td>\n",
       "      <td>1.701105</td>\n",
       "      <td>1.647136</td>\n",
       "      <td>1.432621</td>\n",
       "      <td>2.234491</td>\n",
       "      <td>3989.439738</td>\n",
       "    </tr>\n",
       "    <tr>\n",
       "      <th>min</th>\n",
       "      <td>0.200000</td>\n",
       "      <td>1.000000</td>\n",
       "      <td>1.000000</td>\n",
       "      <td>1.000000</td>\n",
       "      <td>43.000000</td>\n",
       "      <td>43.000000</td>\n",
       "      <td>326.000000</td>\n",
       "    </tr>\n",
       "    <tr>\n",
       "      <th>25%</th>\n",
       "      <td>0.400000</td>\n",
       "      <td>1.000000</td>\n",
       "      <td>2.000000</td>\n",
       "      <td>4.000000</td>\n",
       "      <td>61.000000</td>\n",
       "      <td>56.000000</td>\n",
       "      <td>950.000000</td>\n",
       "    </tr>\n",
       "    <tr>\n",
       "      <th>50%</th>\n",
       "      <td>0.700000</td>\n",
       "      <td>2.000000</td>\n",
       "      <td>4.000000</td>\n",
       "      <td>5.000000</td>\n",
       "      <td>61.800000</td>\n",
       "      <td>57.000000</td>\n",
       "      <td>2401.000000</td>\n",
       "    </tr>\n",
       "    <tr>\n",
       "      <th>75%</th>\n",
       "      <td>1.040000</td>\n",
       "      <td>4.000000</td>\n",
       "      <td>5.000000</td>\n",
       "      <td>6.000000</td>\n",
       "      <td>62.500000</td>\n",
       "      <td>59.000000</td>\n",
       "      <td>5324.250000</td>\n",
       "    </tr>\n",
       "    <tr>\n",
       "      <th>max</th>\n",
       "      <td>5.010000</td>\n",
       "      <td>5.000000</td>\n",
       "      <td>7.000000</td>\n",
       "      <td>8.000000</td>\n",
       "      <td>79.000000</td>\n",
       "      <td>95.000000</td>\n",
       "      <td>18823.000000</td>\n",
       "    </tr>\n",
       "  </tbody>\n",
       "</table>\n",
       "</div>"
      ],
      "text/plain": [
       "              carat           cut         color       clarity         depth  \\\n",
       "count  53940.000000  53940.000000  53940.000000  53940.000000  53940.000000   \n",
       "mean       0.797940      2.228940      3.594197      4.948980     61.749405   \n",
       "std        0.474011      1.265976      1.701105      1.647136      1.432621   \n",
       "min        0.200000      1.000000      1.000000      1.000000     43.000000   \n",
       "25%        0.400000      1.000000      2.000000      4.000000     61.000000   \n",
       "50%        0.700000      2.000000      4.000000      5.000000     61.800000   \n",
       "75%        1.040000      4.000000      5.000000      6.000000     62.500000   \n",
       "max        5.010000      5.000000      7.000000      8.000000     79.000000   \n",
       "\n",
       "              table         price  \n",
       "count  53940.000000  53940.000000  \n",
       "mean      57.457184   3932.799722  \n",
       "std        2.234491   3989.439738  \n",
       "min       43.000000    326.000000  \n",
       "25%       56.000000    950.000000  \n",
       "50%       57.000000   2401.000000  \n",
       "75%       59.000000   5324.250000  \n",
       "max       95.000000  18823.000000  "
      ]
     },
     "execution_count": 60,
     "metadata": {},
     "output_type": "execute_result"
    }
   ],
   "source": [
    "df.describe()"
   ]
  },
  {
   "cell_type": "code",
   "execution_count": 61,
   "metadata": {
    "id": "Qj6sOoo6TxSw",
    "outputId": "36edba57-a88f-4010-a4e1-17757025e2fd",
    "tags": []
   },
   "outputs": [
    {
     "name": "stdout",
     "output_type": "stream",
     "text": [
      "price      1.000000\n",
      "carat      0.921591\n",
      "color      0.172511\n",
      "clarity    0.146800\n",
      "table      0.127134\n",
      "cut        0.049421\n",
      "depth     -0.010647\n",
      "Name: price, dtype: float64\n"
     ]
    }
   ],
   "source": [
    "correlation_matrix = df.corr()\n",
    "correlation_with_target = correlation_matrix['price'].sort_values(ascending=False)\n",
    "print(correlation_with_target)"
   ]
  },
  {
   "cell_type": "code",
   "execution_count": 62,
   "metadata": {
    "id": "7fV-TMEBTxSw",
    "outputId": "56fdccb5-35c8-4101-d7cc-4e017c1fb046",
    "tags": []
   },
   "outputs": [
    {
     "data": {
      "image/png": "[encoded data removed]",
      "text/plain": [
       "<Figure size 1000x800 with 2 Axes>"
      ]
     },
     "metadata": {},
     "output_type": "display_data"
    }
   ],
   "source": [
    "plt.figure(figsize=(10, 8))\n",
    "sns.heatmap(correlation_matrix, annot=True, cmap='coolwarm')\n",
    "plt.title(\"Correlation Heatmap\")\n",
    "plt.show()"
   ]
  },
  {
   "cell_type": "code",
   "execution_count": 63,
   "metadata": {
    "id": "Uvlw7YbxTxSw",
    "outputId": "6374413e-c109-42b9-9cc4-2eb7188b04b9",
    "tags": []
   },
   "outputs": [
    {
     "data": {
      "text/html": [
       "<div>\n",
       "<style scoped>\n",
       "    .dataframe tbody tr th:only-of-type {\n",
       "        vertical-align: middle;\n",
       "    }\n",
       "\n",
       "    .dataframe tbody tr th {\n",
       "        vertical-align: top;\n",
       "    }\n",
       "\n",
       "    .dataframe thead th {\n",
       "        text-align: right;\n",
       "    }\n",
       "</style>\n",
       "<table border=\"1\" class=\"dataframe\">\n",
       "  <thead>\n",
       "    <tr style=\"text-align: right;\">\n",
       "      <th></th>\n",
       "      <th>carat</th>\n",
       "      <th>color</th>\n",
       "      <th>clarity</th>\n",
       "      <th>price</th>\n",
       "    </tr>\n",
       "  </thead>\n",
       "  <tbody>\n",
       "    <tr>\n",
       "      <th>0</th>\n",
       "      <td>0.23</td>\n",
       "      <td>2</td>\n",
       "      <td>7</td>\n",
       "      <td>326</td>\n",
       "    </tr>\n",
       "    <tr>\n",
       "      <th>1</th>\n",
       "      <td>0.21</td>\n",
       "      <td>2</td>\n",
       "      <td>6</td>\n",
       "      <td>326</td>\n",
       "    </tr>\n",
       "    <tr>\n",
       "      <th>2</th>\n",
       "      <td>0.23</td>\n",
       "      <td>2</td>\n",
       "      <td>4</td>\n",
       "      <td>327</td>\n",
       "    </tr>\n",
       "    <tr>\n",
       "      <th>3</th>\n",
       "      <td>0.29</td>\n",
       "      <td>6</td>\n",
       "      <td>5</td>\n",
       "      <td>334</td>\n",
       "    </tr>\n",
       "    <tr>\n",
       "      <th>4</th>\n",
       "      <td>0.31</td>\n",
       "      <td>7</td>\n",
       "      <td>7</td>\n",
       "      <td>335</td>\n",
       "    </tr>\n",
       "  </tbody>\n",
       "</table>\n",
       "</div>"
      ],
      "text/plain": [
       "   carat  color  clarity  price\n",
       "0   0.23      2        7    326\n",
       "1   0.21      2        6    326\n",
       "2   0.23      2        4    327\n",
       "3   0.29      6        5    334\n",
       "4   0.31      7        7    335"
      ]
     },
     "execution_count": 63,
     "metadata": {},
     "output_type": "execute_result"
    }
   ],
   "source": [
    "df = df.drop([\"cut\", \"depth\", \"table\"], axis=1)\n",
    "df.head()"
   ]
  },
  {
   "cell_type": "code",
   "execution_count": 64,
   "metadata": {
    "id": "1B-TSNmdTxSx",
    "outputId": "686963a9-9ade-40e8-acca-a7f34e5902fc",
    "tags": []
   },
   "outputs": [
    {
     "name": "stdout",
     "output_type": "stream",
     "text": [
      "Shape of training data - X_train: (43152, 3)\n",
      "Shape of training data - y_train: (43152,)\n"
     ]
    }
   ],
   "source": [
    "X = df.drop([\"price\"], axis=1)\n",
    "y = df[\"price\"]\n",
    "\n",
    "# Split the data into training and testing sets\n",
    "X_train, X_test, y_train, y_test = train_test_split(X, y,\n",
    "                                                test_size=0.2,\n",
    "                                                random_state=42)\n",
    "\n",
    "# Check the shape of the training dataset\n",
    "print(\"Shape of training data - X_train:\", X_train.shape)\n",
    "print(\"Shape of training data - y_train:\", y_train.shape)"
   ]
  },
  {
   "cell_type": "markdown",
   "metadata": {
    "id": "JzAuCw3xTxSx"
   },
   "source": [
    "---\n"
   ]
  },
  {
   "cell_type": "code",
   "execution_count": 65,
   "metadata": {
    "id": "Mt_MY6rETxSx",
    "tags": []
   },
   "outputs": [],
   "source": [
    "# Collect all R2 scores\n",
    "R2_scores = []\n",
    "models = ['Linear Regression' , 'Lasso Regression', 'Ridge Regression' ,'Random Forest Regression' ,'KNeighbours Regression']"
   ]
  },
  {
   "cell_type": "markdown",
   "metadata": {
    "id": "hn7m_wB2TxSx"
   },
   "source": [
    "## Linear Regression\n"
   ]
  },
  {
   "cell_type": "code",
   "execution_count": 66,
   "metadata": {
    "id": "f9dwK2Q2TxSx",
    "outputId": "79f967a0-9df8-4ca7-ad54-e283516e891f",
    "tags": []
   },
   "outputs": [
    {
     "name": "stdout",
     "output_type": "stream",
     "text": [
      "Mean Absolute Error: 863.605\n",
      "Mean Squared Error: 1565901.964\n",
      "R-squared Score: 0.901\n"
     ]
    }
   ],
   "source": [
    "clf_lr = LinearRegression()\n",
    "clf_lr.fit(X_train, y_train)\n",
    "\n",
    "y_pred = clf_lr.predict(X_test)\n",
    "\n",
    "mae = mean_absolute_error(y_test, y_pred)\n",
    "print(\"Mean Absolute Error: %.3f\" %mae)\n",
    "\n",
    "mse = mean_squared_error(y_test, y_pred)\n",
    "print(\"Mean Squared Error: %.3f\" %mse)\n",
    "\n",
    "r2 = r2_score(y_test, y_pred)\n",
    "print(\"R-squared Score: %.3f\" %r2)\n",
    "\n",
    "R2_scores.append(r2)"
   ]
  },
  {
   "cell_type": "markdown",
   "metadata": {
    "id": "07_BgNcvTxSy"
   },
   "source": [
    "## Lasso Regression\n"
   ]
  },
  {
   "cell_type": "code",
   "execution_count": 67,
   "metadata": {
    "id": "S0SmlFRsTxSy",
    "outputId": "118a8750-cb12-4b20-9208-b37d0b991fe3",
    "tags": []
   },
   "outputs": [
    {
     "name": "stdout",
     "output_type": "stream",
     "text": [
      "Mean Absolute Error: 863.145\n",
      "Mean Squared Error: 1565764.547\n",
      "R-squared Score: 0.902\n"
     ]
    }
   ],
   "source": [
    "\n",
    "clf_la = Lasso()\n",
    "clf_la.fit(X_train , y_train)\n",
    "\n",
    "y_pred = clf_la.predict(X_test)\n",
    "\n",
    "mae = mean_absolute_error(y_test, y_pred)\n",
    "print(\"Mean Absolute Error: %.3f\" %mae)\n",
    "\n",
    "mse = mean_squared_error(y_test, y_pred)\n",
    "print(\"Mean Squared Error: %.3f\" %mse)\n",
    "\n",
    "r2 = r2_score(y_test, y_pred)\n",
    "print(\"R-squared Score: %.3f\" %r2)\n",
    "\n",
    "R2_scores.append(r2)"
   ]
  },
  {
   "cell_type": "markdown",
   "metadata": {
    "id": "5w7IHyOITxSz"
   },
   "source": [
    "## Ridge Regression\n"
   ]
  },
  {
   "cell_type": "code",
   "execution_count": 68,
   "metadata": {
    "id": "AlEjQx9mTxSz",
    "outputId": "40dd2806-faee-43f0-d312-63afe25360e4",
    "tags": []
   },
   "outputs": [
    {
     "name": "stdout",
     "output_type": "stream",
     "text": [
      "Mean Absolute Error: 863.540\n",
      "Mean Squared Error: 1565875.716\n",
      "R-squared Score: 0.901\n"
     ]
    }
   ],
   "source": [
    "clf_rr = Ridge()\n",
    "clf_rr.fit(X_train , y_train)\n",
    "\n",
    "y_pred = clf_rr.predict(X_test)\n",
    "\n",
    "mae = mean_absolute_error(y_test, y_pred)\n",
    "print(\"Mean Absolute Error: %.3f\" %mae)\n",
    "\n",
    "mse = mean_squared_error(y_test, y_pred)\n",
    "print(\"Mean Squared Error: %.3f\" %mse)\n",
    "\n",
    "r2 = r2_score(y_test, y_pred)\n",
    "print(\"R-squared Score: %.3f\" %r2)\n",
    "\n",
    "R2_scores.append(r2)"
   ]
  },
  {
   "cell_type": "markdown",
   "metadata": {
    "id": "3DE8SSh4TxSz"
   },
   "source": [
    "## Random Forest Regression\n"
   ]
  },
  {
   "cell_type": "code",
   "execution_count": 69,
   "metadata": {
    "id": "tTC5yJ6wTxSz",
    "outputId": "bf2447d0-87fd-4fdb-9713-c73e03354f5c",
    "tags": []
   },
   "outputs": [
    {
     "name": "stdout",
     "output_type": "stream",
     "text": [
      "Mean Absolute Error: 310.318\n",
      "Mean Squared Error: 355128.986\n",
      "R-squared Score: 0.978\n"
     ]
    }
   ],
   "source": [
    "clf_rf = RandomForestRegressor()\n",
    "clf_rf.fit(X_train , y_train)\n",
    "\n",
    "y_pred = clf_rf.predict(X_test)\n",
    "\n",
    "mae = mean_absolute_error(y_test, y_pred)\n",
    "print(\"Mean Absolute Error: %.3f\" %mae)\n",
    "\n",
    "mse = mean_squared_error(y_test, y_pred)\n",
    "print(\"Mean Squared Error: %.3f\" %mse)\n",
    "\n",
    "r2 = r2_score(y_test, y_pred)\n",
    "print(\"R-squared Score: %.3f\" %r2)\n",
    "\n",
    "R2_scores.append(r2)"
   ]
  },
  {
   "cell_type": "markdown",
   "metadata": {
    "id": "AeE65KOzTxS0"
   },
   "source": [
    "## KNeighbours Regression\n"
   ]
  },
  {
   "cell_type": "code",
   "execution_count": 70,
   "metadata": {
    "id": "H0y75yMTTxS0",
    "outputId": "a9276d18-2ad1-442c-daf9-844d0fb8b3d1",
    "tags": []
   },
   "outputs": [
    {
     "name": "stdout",
     "output_type": "stream",
     "text": [
      "Mean Absolute Error: 333.433\n",
      "Mean Squared Error: 390566.568\n",
      "R-squared Score: 0.975\n"
     ]
    }
   ],
   "source": [
    "clf_knn = KNeighborsRegressor()\n",
    "clf_knn.fit(X_train , y_train)\n",
    "\n",
    "y_pred = clf_knn.predict(X_test)\n",
    "\n",
    "mae = mean_absolute_error(y_test, y_pred)\n",
    "print(\"Mean Absolute Error: %.3f\" %mae)\n",
    "\n",
    "mse = mean_squared_error(y_test, y_pred)\n",
    "print(\"Mean Squared Error: %.3f\" %mse)\n",
    "\n",
    "r2 = r2_score(y_test, y_pred)\n",
    "print(\"R-squared Score: %.3f\" %r2)\n",
    "\n",
    "R2_scores.append(r2)"
   ]
  },
  {
   "cell_type": "markdown",
   "metadata": {
    "id": "8OazyP49TxS1"
   },
   "source": [
    "# Diamond Price Prediction\n"
   ]
  },
  {
   "cell_type": "code",
   "execution_count": 71,
   "metadata": {
    "id": "dD2rnFVOTxS1"
   },
   "outputs": [],
   "source": [
    "def predict_price(carat, color, clarity):\n",
    "    # Map user inputs to the format used in the DataFrame\n",
    "    color_mapping = {\"D\": 1, \"E\": 2, \"F\": 3, \"G\": 4, \"H\": 5, \"I\": 6, \"J\": 7}\n",
    "    clarity_mapping = {\"IF\": 1, \"VVS1\": 2, \"VVS2\": 3, \"VS1\": 4, \"VS2\": 5, \"SI1\": 6, \"SI2\": 7, \"I1\": 8}\n",
    "\n",
    "    # Create a DataFrame with user inputs\n",
    "    user_data = pd.DataFrame({\n",
    "        'carat': [carat],\n",
    "        'color': [color_mapping[color]],\n",
    "        'clarity': [clarity_mapping[clarity]]\n",
    "    })\n",
    "\n",
    "    # Use the trained model to predict the price\n",
    "    predicted_price = clf_rf.predict(user_data)[0]\n",
    "\n",
    "    return predicted_price\n"
   ]
  },
  {
   "cell_type": "code",
   "execution_count": 72,
   "metadata": {
    "id": "AekqYslzTxS1",
    "outputId": "dbc1f20a-8816-4223-e902-d4d577c82049"
   },
   "outputs": [
    {
     "name": "stdout",
     "output_type": "stream",
     "text": [
      "The predicted price is: 384.68880341880345\n"
     ]
    }
   ],
   "source": [
    "carat_input = 0.21\n",
    "color_input = \"D\"\n",
    "clarity_input = \"VS1\"\n",
    "predicted_price = predict_price(carat_input, color_input, clarity_input)\n",
    "print(f\"The predicted price is: {predicted_price}\")\n"
   ]
  },
  {
   "cell_type": "code",
   "execution_count": 73,
   "metadata": {
    "id": "B9gwD2q-TxS1"
   },
   "outputs": [],
   "source": [
    "import pickle"
   ]
  },
  {
   "cell_type": "code",
   "execution_count": 74,
   "metadata": {
    "id": "eYsI9AYbTxS1"
   },
   "outputs": [],
   "source": [
    "pickle.dump(clf_rf,open('diamond','wb'))"
   ]
  },
  {
   "cell_type": "code",
   "execution_count": 75,
   "metadata": {
    "id": "8BgTuAneTxS1"
   },
   "outputs": [],
   "source": [
    "model_load=pickle.load(open('diamond','rb'))"
   ]
  },
  {
   "cell_type": "code",
   "execution_count": 76,
   "metadata": {
    "id": "B5YZ9r-CTxS1",
    "outputId": "d8892e9e-5db8-40d6-f4d3-498d07280752"
   },
   "outputs": [
    {
     "data": {
      "text/plain": [
       "array([ 525.46399603, 2375.05127786, 1102.2749207 , ...,  851.01322255,\n",
       "       9608.30087414, 3663.32571429])"
      ]
     },
     "execution_count": 76,
     "metadata": {},
     "output_type": "execute_result"
    }
   ],
   "source": [
    "model_load.predict(X_test)"
   ]
  },
  {
   "cell_type": "code",
   "execution_count": 77,
   "metadata": {
    "id": "IMP6zsZZTxS2"
   },
   "outputs": [],
   "source": [
    "import pickle\n",
    "\n",
    "\n",
    "with open('Diamond.pkl', 'wb') as file:\n",
    "    pickle.dump(clf_rf, file)\n"
   ]
  },
  {
   "cell_type": "code",
   "execution_count": 78,
   "metadata": {
    "id": "DmICPUhRTxS2",
    "outputId": "c3715c05-2819-415e-d3c0-f569f9235f1a"
   },
   "outputs": [
    {
     "data": {
      "text/plain": [
       "['diamond_price_predictor_model.pkl']"
      ]
     },
     "execution_count": 78,
     "metadata": {},
     "output_type": "execute_result"
    }
   ],
   "source": [
    "import joblib\n",
    "\n",
    "# Assuming you have X_train and y_train for training\n",
    "clf_rf = RandomForestRegressor()\n",
    "clf_rf.fit(X_train, y_train)\n",
    "\n",
    "# Save the trained model to a file\n",
    "joblib.dump(clf_rf, 'diamond_price_predictor_model.pkl')\n"
   ]
  },
  {
   "cell_type": "code",
   "execution_count": null,
   "metadata": {
    "id": "_ZJuzuEBTxS2"
   },
   "outputs": [],
   "source": []
  }
 ],
 "metadata": {
  "colab": {
   "collapsed_sections": [
    "3DE8SSh4TxSz",
    "AeE65KOzTxS0",
    "5Fi2gA5jTxS0",
    "8OazyP49TxS1"
   ],
   "provenance": []
  },
  "kernelspec": {
   "display_name": "Python 3 (ipykernel)",
   "language": "python",
   "name": "python3"
  },
  "language_info": {
   "codemirror_mode": {
    "name": "ipython",
    "version": 3
   },
   "file_extension": ".py",
   "mimetype": "text/x-python",
   "name": "python",
   "nbconvert_exporter": "python",
   "pygments_lexer": "ipython3",
   "version": "3.11.2"
  }
 },
 "nbformat": 4,
 "nbformat_minor": 4
}
